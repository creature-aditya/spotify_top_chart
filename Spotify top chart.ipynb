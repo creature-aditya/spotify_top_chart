{
 "cells": [
  {
   "cell_type": "code",
   "execution_count": 0,
   "metadata": {
    "application/vnd.databricks.v1+cell": {
     "cellMetadata": {
      "byteLimit": 2048000,
      "rowLimit": 10000
     },
     "inputWidgets": {},
     "nuid": "b7979136-d368-4bb8-861b-ac2258c38750",
     "showTitle": false,
     "title": ""
    }
   },
   "outputs": [],
   "source": [
    "%fs ls /FileStore/tables/hyperAWS_accessKeys.csv"
   ]
  },
  {
   "cell_type": "code",
   "execution_count": 0,
   "metadata": {
    "application/vnd.databricks.v1+cell": {
     "cellMetadata": {
      "byteLimit": 2048000,
      "rowLimit": 10000
     },
     "inputWidgets": {},
     "nuid": "ea5d34a2-eeef-40b1-8a44-2ffb2cdb71f9",
     "showTitle": false,
     "title": ""
    }
   },
   "outputs": [],
   "source": [
    "aws_keys_df = spark.read.format('csv').option('header','true').option('inferSchema','true').load('/FileStore/tables/hyperAWS_accessKeys.csv')\n",
    "\n",
    "aws_keys_df.columns"
   ]
  },
  {
   "cell_type": "code",
   "execution_count": 0,
   "metadata": {
    "application/vnd.databricks.v1+cell": {
     "cellMetadata": {
      "byteLimit": 2048000,
      "rowLimit": 10000
     },
     "inputWidgets": {},
     "nuid": "d546369b-919a-4819-b839-63c53bc3698c",
     "showTitle": false,
     "title": ""
    }
   },
   "outputs": [],
   "source": [
    "ACCESS_KEY = aws_keys_df.select('Access key ID').take(1)[0]['Access key ID']\n",
    "SECRET_KEY = aws_keys_df.select('Secret access key').take(1)[0]['Secret access key']"
   ]
  },
  {
   "cell_type": "code",
   "execution_count": 0,
   "metadata": {
    "application/vnd.databricks.v1+cell": {
     "cellMetadata": {
      "byteLimit": 2048000,
      "rowLimit": 10000
     },
     "inputWidgets": {},
     "nuid": "7954e884-44df-436f-ba47-419dc95ccdbd",
     "showTitle": false,
     "title": ""
    }
   },
   "outputs": [],
   "source": [
    "import  urllib\n",
    "\n",
    "ENCODED_SECRET_KEY = urllib.parse.quote(string = SECRET_KEY, safe = \"\")"
   ]
  },
  {
   "cell_type": "code",
   "execution_count": 0,
   "metadata": {
    "application/vnd.databricks.v1+cell": {
     "cellMetadata": {
      "byteLimit": 2048000,
      "rowLimit": 10000
     },
     "inputWidgets": {},
     "nuid": "142fdfb8-6efd-4569-b80a-45a82a20dd44",
     "showTitle": false,
     "title": ""
    }
   },
   "outputs": [],
   "source": [
    "AWS_S3_BUCKET = 'hypernaag'\n",
    "MOUNT_NAME = '/mnt/mount_s3'\n",
    "\n",
    "SOURCE_URL = \"s3a://%s:%s@%s\" %(ACCESS_KEY,ENCODED_SECRET_KEY, AWS_S3_BUCKET)"
   ]
  },
  {
   "cell_type": "code",
   "execution_count": 0,
   "metadata": {
    "application/vnd.databricks.v1+cell": {
     "cellMetadata": {
      "byteLimit": 2048000,
      "rowLimit": 10000
     },
     "inputWidgets": {},
     "nuid": "29b4bb91-16e9-48b5-90f2-21514217c050",
     "showTitle": false,
     "title": ""
    }
   },
   "outputs": [],
   "source": [
    "dbutils.fs.mount(SOURCE_URL,MOUNT_NAME)"
   ]
  },
  {
   "cell_type": "code",
   "execution_count": 0,
   "metadata": {
    "application/vnd.databricks.v1+cell": {
     "cellMetadata": {
      "byteLimit": 2048000,
      "rowLimit": 10000
     },
     "inputWidgets": {},
     "nuid": "2c9f0bda-ba87-43a0-8f10-39653c78529b",
     "showTitle": false,
     "title": ""
    }
   },
   "outputs": [],
   "source": [
    "%fs ls '/mnt/mount_s3'"
   ]
  },
  {
   "cell_type": "code",
   "execution_count": 0,
   "metadata": {
    "application/vnd.databricks.v1+cell": {
     "cellMetadata": {
      "byteLimit": 2048000,
      "rowLimit": 10000
     },
     "inputWidgets": {},
     "nuid": "b3e0213e-1fae-4a85-9027-eee0b36f385e",
     "showTitle": false,
     "title": ""
    }
   },
   "outputs": [
    {
     "output_type": "display_data",
     "data": {
      "text/html": [
       "\n",
       "            <div>\n",
       "                <p><b>SparkSession - hive</b></p>\n",
       "                \n",
       "        <div>\n",
       "            <p><b>SparkContext</b></p>\n",
       "\n",
       "            <p><a href=\"/?o=3551302209387244#setting/sparkui/0523-085654-ma54wwvs/driver-1519564596845937760\">Spark UI</a></p>\n",
       "\n",
       "            <dl>\n",
       "              <dt>Version</dt>\n",
       "                <dd><code>v3.3.2</code></dd>\n",
       "              <dt>Master</dt>\n",
       "                <dd><code>local[8]</code></dd>\n",
       "              <dt>AppName</dt>\n",
       "                <dd><code>Databricks Shell</code></dd>\n",
       "            </dl>\n",
       "        </div>\n",
       "        \n",
       "            </div>\n",
       "        "
      ]
     },
     "metadata": {
      "application/vnd.databricks.v1+output": {
       "addedWidgets": {},
       "arguments": {},
       "data": "\n            <div>\n                <p><b>SparkSession - hive</b></p>\n                \n        <div>\n            <p><b>SparkContext</b></p>\n\n            <p><a href=\"/?o=3551302209387244#setting/sparkui/0523-085654-ma54wwvs/driver-1519564596845937760\">Spark UI</a></p>\n\n            <dl>\n              <dt>Version</dt>\n                <dd><code>v3.3.2</code></dd>\n              <dt>Master</dt>\n                <dd><code>local[8]</code></dd>\n              <dt>AppName</dt>\n                <dd><code>Databricks Shell</code></dd>\n            </dl>\n        </div>\n        \n            </div>\n        ",
       "datasetInfos": [],
       "metadata": {},
       "removedWidgets": [],
       "textData": null,
       "type": "htmlSandbox"
      }
     },
     "output_type": "display_data"
    }
   ],
   "source": [
    "spark"
   ]
  },
  {
   "cell_type": "code",
   "execution_count": 0,
   "metadata": {
    "application/vnd.databricks.v1+cell": {
     "cellMetadata": {
      "byteLimit": 2048000,
      "rowLimit": 10000
     },
     "inputWidgets": {},
     "nuid": "78bc807f-ad2f-4e20-a836-b7e215bf900e",
     "showTitle": false,
     "title": ""
    }
   },
   "outputs": [],
   "source": [
    "from pyspark.sql.types import StructField, StructType, IntegerType, StringType, BooleanType, DataType, DecimalType, DateType\n",
    "\n",
    "from pyspark.sql.functions import col"
   ]
  },
  {
   "cell_type": "code",
   "execution_count": 0,
   "metadata": {
    "application/vnd.databricks.v1+cell": {
     "cellMetadata": {
      "byteLimit": 2048000,
      "rowLimit": 10000
     },
     "inputWidgets": {},
     "nuid": "6fedfd7b-165c-4a1b-abfe-c5d83ce86a1b",
     "showTitle": false,
     "title": ""
    }
   },
   "outputs": [],
   "source": [
    "from pyspark.sql import SparkSession\n",
    "\n",
    "spark = SparkSession.builder.appName(\"Spotify Data Analysis\").getOrCreate()"
   ]
  },
  {
   "cell_type": "code",
   "execution_count": 0,
   "metadata": {
    "application/vnd.databricks.v1+cell": {
     "cellMetadata": {
      "byteLimit": 2048000,
      "rowLimit": 10000
     },
     "inputWidgets": {},
     "nuid": "29f3806f-22de-444c-9134-0ebcc5912179",
     "showTitle": false,
     "title": ""
    }
   },
   "outputs": [],
   "source": [
    " spotify_schema = StructType([\n",
    "    StructField(\"spotify_id\", StringType(), True),\n",
    "    StructField(\"name\", StringType(), True),\n",
    "    StructField(\"artists\", StringType(), True),\n",
    "    StructField(\"daily_rank\", IntegerType(), True),\n",
    "    StructField(\"daily_movement\", IntegerType(), True),\n",
    "    StructField(\"weekly_movement\", IntegerType(), True),\n",
    "    StructField(\"country\", StringType(), True),\n",
    "    StructField(\"snapshot_date\", DateType(), True),\n",
    "    StructField(\"popularity\", IntegerType(), True),\n",
    "    StructField(\"is_explicit\", BooleanType(), True),\n",
    "    StructField(\"duration_ms\", IntegerType(), True),\n",
    "    StructField(\"album_name\", StringType(), True),\n",
    "    StructField(\"album_release_date\", DateType(), True),\n",
    "    StructField(\"danceability\", DecimalType(17, 7), True),\n",
    "    StructField(\"energy\", DecimalType(17, 7), True),\n",
    "    StructField(\"key\", IntegerType(), True),\n",
    "    StructField(\"loudness\", DecimalType(17, 7), True),\n",
    "    StructField(\"mode\", IntegerType(), True),\n",
    "    StructField(\"speechiness\", DecimalType(17, 7), True),\n",
    "    StructField(\"acousticness\", DecimalType(17, 7), True),\n",
    "    StructField(\"instrumentalness\", DecimalType(17, 7), True),\n",
    "    StructField(\"liveness\", DecimalType(17, 7), True),\n",
    "    StructField(\"valence\", DecimalType(17, 7), True),\n",
    "    StructField(\"tempo\", DecimalType(17, 7), True),\n",
    "    StructField(\"time_signature\", IntegerType(), True)\n",
    "])"
   ]
  },
  {
   "cell_type": "code",
   "execution_count": 0,
   "metadata": {
    "application/vnd.databricks.v1+cell": {
     "cellMetadata": {
      "byteLimit": 2048000,
      "rowLimit": 10000
     },
     "inputWidgets": {},
     "nuid": "3b50ee24-77d4-4ec2-ae40-16146dc2a897",
     "showTitle": false,
     "title": ""
    }
   },
   "outputs": [],
   "source": [
    "spotify_df = spark.read.schema(spotify_schema).format('csv').option(\"header\",\"true\").option(\"inferSchema\",\"true\").load('/mnt/mount_s3/universal_top_spotify.csv')\n"
   ]
  },
  {
   "cell_type": "code",
   "execution_count": 0,
   "metadata": {
    "application/vnd.databricks.v1+cell": {
     "cellMetadata": {
      "byteLimit": 2048000,
      "rowLimit": 10000
     },
     "inputWidgets": {},
     "nuid": "968d783c-530a-4954-b34f-db64bf023181",
     "showTitle": false,
     "title": ""
    }
   },
   "outputs": [
    {
     "output_type": "stream",
     "name": "stdout",
     "output_type": "stream",
     "text": [
      "719602\n"
     ]
    }
   ],
   "source": [
    "# total unique songs in the dataset\n",
    "unique_df = spotify_df.distinct().count()\n",
    "\n",
    "print(unique_df)"
   ]
  },
  {
   "cell_type": "code",
   "execution_count": 0,
   "metadata": {
    "application/vnd.databricks.v1+cell": {
     "cellMetadata": {
      "byteLimit": 2048000,
      "rowLimit": 10000
     },
     "inputWidgets": {},
     "nuid": "8647cb70-970c-4d67-9d21-0726c413e6d7",
     "showTitle": false,
     "title": ""
    }
   },
   "outputs": [
    {
     "output_type": "stream",
     "name": "stdout",
     "output_type": "stream",
     "text": [
      "Out[9]: [Row(spotify_id='2qSkIjg1o9h3YT9RAgYN75', name='Espresso', artists='Sabrina Carpenter', daily_rank=1, daily_movement=0, weekly_movement=1, country=None, snapshot_date=datetime.date(2024, 5, 5), popularity=97, is_explicit=True, duration_ms=175459, album_name='Espresso', album_release_date=datetime.date(2024, 4, 12), danceability=Decimal('0.7010000'), energy=Decimal('0.7600000'), key=0, loudness=Decimal('-5.4780000'), mode=1, speechiness=Decimal('0.0285000'), acousticness=Decimal('0.1070000'), instrumentalness=Decimal('0.0000654'), liveness=Decimal('0.1850000'), valence=Decimal('0.6900000'), tempo=Decimal('103.9690000'), time_signature=4),\n Row(spotify_id='2GxrNKugF82CnoRFbQfzPf', name='i like the way you kiss me', artists='Artemas', daily_rank=2, daily_movement=0, weekly_movement=1, country=None, snapshot_date=datetime.date(2024, 5, 5), popularity=100, is_explicit=False, duration_ms=142514, album_name='i like the way you kiss me', album_release_date=datetime.date(2024, 3, 19), danceability=Decimal('0.5990000'), energy=Decimal('0.9460000'), key=11, loudness=Decimal('-4.2630000'), mode=1, speechiness=Decimal('0.0447000'), acousticness=Decimal('0.0009380'), instrumentalness=Decimal('0.0106000'), liveness=Decimal('0.0826000'), valence=Decimal('0.7470000'), tempo=Decimal('151.6470000'), time_signature=4)]"
     ]
    }
   ],
   "source": [
    "spotify_df.head(2)"
   ]
  },
  {
   "cell_type": "code",
   "execution_count": 0,
   "metadata": {
    "application/vnd.databricks.v1+cell": {
     "cellMetadata": {
      "byteLimit": 2048000,
      "rowLimit": 10000
     },
     "inputWidgets": {},
     "nuid": "82d58e26-d483-4e5f-a0d5-df9db0dadf78",
     "showTitle": false,
     "title": ""
    }
   },
   "outputs": [],
   "source": [
    "spotify_df.createOrReplaceTempView(\"spotify_data\")\n"
   ]
  },
  {
   "cell_type": "code",
   "execution_count": 0,
   "metadata": {
    "application/vnd.databricks.v1+cell": {
     "cellMetadata": {
      "byteLimit": 2048000,
      "rowLimit": 10000
     },
     "inputWidgets": {},
     "nuid": "838d8156-8e78-4c19-aec3-136be6af7542",
     "showTitle": false,
     "title": ""
    }
   },
   "outputs": [
    {
     "output_type": "stream",
     "name": "stdout",
     "output_type": "stream",
     "text": [
      "+-------+--------------------+------------+--------+\n|country|          spotify_id|        name|count(1)|\n+-------+--------------------+------------+--------+\n|     CR|7bywjHOc0wSjGGbj0...|        LUNA|     124|\n|     GT|0R6NfOiLzLj4O5VbY...|   La Diabla|     124|\n|     PK|0TL0LFcwIBF5eX7ar...|        Husn|     124|\n|     PA|7iQXYTyuG13aoeHxG...| PERRO NEGRO|     124|\n|     PK|5rpCUsEfBLIumvrxr...|      Wishes|     124|\n|     BO|7bywjHOc0wSjGGbj0...|        LUNA|     124|\n|     FR|1eldTykrnkEBLX41b...| Petit génie|     124|\n|     UA|1YeQGpxrQvp6Yg3K6...|Покохай мене|     124|\n|     ID|7F4tV8SiUy6itZTdA...|penjaga hati|     124|\n|     HK|1xRMtDxiU8xxAlaDs...|          濤|     124|\n+-------+--------------------+------------+--------+\n\n"
     ]
    }
   ],
   "source": [
    "top_song = spark.sql(\"\"\"\n",
    "        select \n",
    "        country,\n",
    "        spotify_id,\n",
    "        name,\n",
    "        count(*)\n",
    "        from spotify_data\n",
    "        where daily_rank <= 10 and \n",
    "        snapshot_date >= '2024-01-01'\n",
    "        group by 1,2,3\n",
    "        order by 4 desc\n",
    "        limit 10\n",
    "\"\"\")\n",
    "\n",
    "top_song.show()"
   ]
  },
  {
   "cell_type": "code",
   "execution_count": 0,
   "metadata": {
    "application/vnd.databricks.v1+cell": {
     "cellMetadata": {
      "byteLimit": 2048000,
      "rowLimit": 10000
     },
     "inputWidgets": {},
     "nuid": "eefb8276-b0c1-4b50-8764-d2ec210748b3",
     "showTitle": false,
     "title": ""
    }
   },
   "outputs": [
    {
     "output_type": "stream",
     "name": "stdout",
     "output_type": "stream",
     "text": [
      "719603\n719603\n"
     ]
    }
   ],
   "source": [
    "print(spotify_df.count())\n",
    "\n",
    "spotify_df.dropDuplicates()  \n",
    "\n",
    "print(spotify_df.count())"
   ]
  },
  {
   "cell_type": "code",
   "execution_count": 0,
   "metadata": {
    "application/vnd.databricks.v1+cell": {
     "cellMetadata": {
      "byteLimit": 2048000,
      "rowLimit": 10000
     },
     "inputWidgets": {},
     "nuid": "adc5d8ed-7bb6-4de2-b4b9-a6a0d403245d",
     "showTitle": false,
     "title": ""
    }
   },
   "outputs": [
    {
     "output_type": "stream",
     "name": "stdout",
     "output_type": "stream",
     "text": [
      "719603\n719603\n"
     ]
    }
   ],
   "source": [
    "print(spotify_df.count())\n",
    "\n",
    "spotify_df.dropna()  \n",
    "\n",
    "print(spotify_df.count())"
   ]
  },
  {
   "cell_type": "code",
   "execution_count": 0,
   "metadata": {
    "application/vnd.databricks.v1+cell": {
     "cellMetadata": {
      "byteLimit": 2048000,
      "rowLimit": 10000
     },
     "inputWidgets": {},
     "nuid": "a4c00ef3-a42b-405c-b72c-bd3cd01cad24",
     "showTitle": false,
     "title": ""
    }
   },
   "outputs": [
    {
     "output_type": "stream",
     "name": "stdout",
     "output_type": "stream",
     "text": [
      "+----+-----+--------------------+-----+----+\n|year|month|             artists|count|rank|\n+----+-----+--------------------+-----+----+\n|2024|    1|          Tate McRae| 1541|   1|\n|2024|    1|        Taylor Swift| 1175|   2|\n|2024|    1|            Doja Cat| 1151|   3|\n|2024|    1|         Jack Harlow|  966|   4|\n|2024|    1|                Xavi|  965|   5|\n|2024|    1|The Weeknd, JENNI...|  954|   6|\n|2024|    1|            Dua Lipa|  952|   7|\n|2024|    1|         Kenya Grace|  951|   8|\n|2024|    1|The Weeknd, Playb...|  938|   9|\n|2024|    1|                Feid|  919|  10|\n|2024|    2|Kanye West, Ty Do...| 1376|   1|\n|2024|    2|          Tate McRae| 1307|   2|\n|2024|    2|        Taylor Swift| 1240|   3|\n|2024|    2|            Dua Lipa| 1107|   4|\n|2024|    2|         Myke Towers|  988|   5|\n|2024|    2|        Benson Boone|  968|   6|\n|2024|    2|                Xavi|  957|   7|\n|2024|    2|The Weeknd, JENNI...|  885|   8|\n|2024|    2|             KAROL G|  875|   9|\n|2024|    2|           21 Savage|  871|  10|\n+----+-----+--------------------+-----+----+\nonly showing top 20 rows\n\n"
     ]
    }
   ],
   "source": [
    "from pyspark.sql.functions import col, month, desc, rank, year\n",
    "from pyspark.sql.window import Window\n",
    "\n",
    "spotify_df = spotify_df.withColumn(\"month\", month(\"snapshot_date\"))\n",
    "\n",
    "spotify_df = spotify_df.withColumn(\"year\", year(\"snapshot_date\"))\n",
    "\n",
    "artist_counts = spotify_df.groupBy(\"year\",\"month\", \"artists\").count()\n",
    "\n",
    "window_spec = Window.partitionBy(\"year\",\"month\").orderBy(desc(\"count\"))\n",
    "ranked_artists = artist_counts.withColumn(\"rank\", rank().over(window_spec))\n",
    "\n",
    "top_10_artists_monthwise = ranked_artists.filter((col(\"rank\") <= 10) & (col(\"year\") >= 2024)).orderBy(\"year\",\"month\", \"rank\")\n",
    "\n",
    "top_10_artists_monthwise = top_10_artists_monthwise.na.drop()\n",
    "\n",
    "top_10_artists_monthwise.show()"
   ]
  },
  {
   "cell_type": "code",
   "execution_count": 0,
   "metadata": {
    "application/vnd.databricks.v1+cell": {
     "cellMetadata": {
      "byteLimit": 2048000,
      "rowLimit": 10000
     },
     "inputWidgets": {},
     "nuid": "6583536b-5d23-472c-a7d1-30daa0cc4045",
     "showTitle": false,
     "title": ""
    }
   },
   "outputs": [
    {
     "output_type": "stream",
     "name": "stdout",
     "output_type": "stream",
     "text": [
      "CSV file successfully written to S3 location: /mnt/mount_s3/output.csv\n"
     ]
    }
   ],
   "source": [
    "s3_output_path = \"/mnt/mount_s3/output.csv\"\n",
    "\n",
    "top_10_artists_monthwise.write.csv(s3_output_path, mode=\"overwrite\", header=True)\n",
    "\n",
    "print(\"CSV file successfully written to S3 location:\", s3_output_path)"
   ]
  },
  {
   "cell_type": "code",
   "execution_count": 0,
   "metadata": {
    "application/vnd.databricks.v1+cell": {
     "cellMetadata": {
      "byteLimit": 2048000,
      "rowLimit": 10000
     },
     "inputWidgets": {},
     "nuid": "e6f56037-a669-48a3-b3ed-50d34d6dd7da",
     "showTitle": false,
     "title": ""
    }
   },
   "outputs": [
    {
     "output_type": "stream",
     "name": "stdout",
     "output_type": "stream",
     "text": [
      "+----+-----+--------------------+-------+-----+----+\n|year|month|             artists|country|count|rank|\n+----+-----+--------------------+-------+-----+----+\n|2024|    4|        Taylor Swift|     AE|   83|   1|\n|2024|    4|       Ariana Grande|     AE|   62|   2|\n|2024|    4|                 SZA|     AE|   45|   3|\n|2024|    4|                   V|     AE|   35|   4|\n|2024|    4|   Sabrina Carpenter|     AE|   32|   5|\n|2024|    4|             Artemas|     AE|   26|   6|\n|2024|    4|¥$, Kanye West, T...|     AE|   25|   7|\n|2024|    4|                Tyla|     AE|   25|   8|\n|2024|    4|         Teddy Swims|     AE|   25|   9|\n|2024|    4|                 Djo|     AE|   25|  10|\n|2024|    4|                TINI|     AR|   90|   1|\n|2024|    4|Tiago PZK, Ke Per...|     AR|   30|   2|\n|2024|    4|Salastkbron, Diel...|     AR|   30|   3|\n|2024|    4|Emanero, Karina, ...|     AR|   30|   4|\n|2024|    4|ORO600, Pablo Chi...|     AR|   30|   5|\n|2024|    4|Omar Varela, El n...|     AR|   30|   6|\n|2024|    4|Luck Ra, Ulises B...|     AR|   30|   7|\n|2024|    4|Roze Oficial, Pei...|     AR|   30|   8|\n|2024|    4|     Feid, ATL Jacob|     AR|   30|   9|\n|2024|    4|Marka Akme, DJ Ta...|     AR|   30|  10|\n+----+-----+--------------------+-------+-----+----+\nonly showing top 20 rows\n\n"
     ]
    }
   ],
   "source": [
    "from pyspark.sql.functions import row_number\n",
    "\n",
    "spotify_df = spotify_df.withColumn(\"month\", month(\"snapshot_date\"))\n",
    "\n",
    "spotify_df = spotify_df.withColumn(\"year\", year(\"snapshot_date\"))\n",
    "\n",
    "artist_counts = spotify_df.groupBy(\"year\",\"month\", \"artists\", \"country\").count()\n",
    "\n",
    "window_spec = Window.partitionBy(\"year\",\"month\", \"country\").orderBy(desc(\"count\"))\n",
    "ranked_artists = artist_counts.withColumn(\"rank\", row_number().over(window_spec))\n",
    "\n",
    "top_10_artists_countrywise = ranked_artists.filter((col(\"rank\") <= 10) & (col(\"year\") >= 2024) & (col(\"month\")== 4)).orderBy(\"year\",\"month\",\"country\",\"rank\")\n",
    "\n",
    "top_10_artists_countrywise = top_10_artists_countrywise.na.drop()\n",
    "\n",
    "top_10_artists_countrywise.show()"
   ]
  },
  {
   "cell_type": "code",
   "execution_count": 0,
   "metadata": {
    "application/vnd.databricks.v1+cell": {
     "cellMetadata": {
      "byteLimit": 2048000,
      "rowLimit": 10000
     },
     "inputWidgets": {},
     "nuid": "5d648517-e804-4365-a402-1e9cdaa92de0",
     "showTitle": false,
     "title": ""
    }
   },
   "outputs": [
    {
     "output_type": "stream",
     "name": "stdout",
     "output_type": "stream",
     "text": [
      "PDF file successfully written to S3 location: /mnt/mount_s3/top_artist_countrywise.csv\n"
     ]
    }
   ],
   "source": [
    "s3_output_path = \"/mnt/mount_s3/top_artist_countrywise.csv\"\n",
    "\n",
    "# Write the DataFrame to the PDF file in the specified S3 location\n",
    "top_10_artists_countrywise.write.csv(s3_output_path, mode=\"overwrite\", header=True)\n",
    "\n",
    "print(\"PDF file successfully written to S3 location:\", s3_output_path)"
   ]
  },
  {
   "cell_type": "code",
   "execution_count": 0,
   "metadata": {
    "application/vnd.databricks.v1+cell": {
     "cellMetadata": {
      "byteLimit": 2048000,
      "rowLimit": 10000
     },
     "inputWidgets": {},
     "nuid": "daa3f0cb-a47f-40a8-89da-cbe4d0f6af44",
     "showTitle": false,
     "title": ""
    }
   },
   "outputs": [
    {
     "output_type": "stream",
     "name": "stdout",
     "output_type": "stream",
     "text": [
      "+----------+--------------------+--------------------+------------+---------+\n|        dt|                name|             artists|danceability|   energy|\n+----------+--------------------+--------------------+------------+---------+\n|April 2024|            Cariceps|Dani Mocanu, Alex...|   0.9630000|0.8090000|\n|April 2024|   Țigancă Balcanică|Tzanca Uraganu, M...|   0.9620000|0.7940000|\n|April 2024|             Sukarie|Trannos, Thodoris...|   0.9610000|0.9470000|\n|April 2024|قمبلة الجيل ( اخت...|Hassan Shakosh, ح...|   0.9510000|0.8780000|\n|April 2024|Edit do Chico Ofi...|MC Saci, Mc Pretc...|   0.9510000|0.8240000|\n|April 2024|Petit Fou Fou (fe...|         Rhove, ANNA|   0.9480000|0.7560000|\n|April 2024|Hoe (feat. Sfera ...|Tedua, Sfera Ebbasta|   0.9360000|0.7570000|\n|April 2024|      Temps en temps|      Zola, Koba LaD|   0.9340000|0.8070000|\n|April 2024|مهرجان يازميكس ال...|Fares Sokar - فار...|   0.9260000|0.9640000|\n|April 2024|            24/7 6.5|YSY A, Jere Klein...|   0.9250000|0.7860000|\n+----------+--------------------+--------------------+------------+---------+\n\n"
     ]
    }
   ],
   "source": [
    "top_dance_song = spark.sql(\"\"\"\n",
    "    select distinct\n",
    "    'April 2024' as dt,\n",
    "    name,\n",
    "    artists,\n",
    "    danceability,\n",
    "    energy\n",
    "    from spotify_data\n",
    "    where snapshot_date >= '2024-04-01' and snapshot_date <= '2024-04-30' \n",
    "    and energy >= 0.75\n",
    "    order by 4 desc, 5 desc\n",
    "    limit 10\n",
    "\"\"\")\n",
    "top_dance_song.show()"
   ]
  },
  {
   "cell_type": "code",
   "execution_count": 0,
   "metadata": {
    "application/vnd.databricks.v1+cell": {
     "cellMetadata": {
      "byteLimit": 2048000,
      "rowLimit": 10000
     },
     "inputWidgets": {},
     "nuid": "01836406-aa85-46ee-9cbb-6f8c1e0988ea",
     "showTitle": false,
     "title": ""
    }
   },
   "outputs": [
    {
     "output_type": "stream",
     "name": "stdout",
     "output_type": "stream",
     "text": [
      "PDF file successfully written to S3 location: /mnt/mount_s3/top_international_dance.csv\n"
     ]
    }
   ],
   "source": [
    "s3_output_path = \"/mnt/mount_s3/top_international_dance.csv\"\n",
    "\n",
    "# Write the DataFrame to the CSV file in the specified S3 location\n",
    "top_dance_song.write.csv(s3_output_path, mode=\"overwrite\", header=True)\n",
    "\n",
    "print(\"PDF file successfully written to S3 location:\", s3_output_path)"
   ]
  }
 ],
 "metadata": {
  "application/vnd.databricks.v1+notebook": {
   "dashboards": [],
   "environmentMetadata": null,
   "language": "python",
   "notebookMetadata": {
    "mostRecentlyExecutedCommandWithImplicitDF": {
     "commandId": 92010780449436,
     "dataframes": [
      "_sqldf"
     ]
    },
    "pythonIndentUnit": 4
   },
   "notebookName": "Spotify top chart",
   "widgets": {}
  }
 },
 "nbformat": 4,
 "nbformat_minor": 0
}
